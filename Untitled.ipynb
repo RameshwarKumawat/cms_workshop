{
 "cells": [
  {
   "cell_type": "code",
   "execution_count": 1,
   "id": "bc367e81",
   "metadata": {},
   "outputs": [
    {
     "data": {
      "text/plain": [
       "10"
      ]
     },
     "execution_count": 1,
     "metadata": {},
     "output_type": "execute_result"
    }
   ],
   "source": [
    "3 + 7"
   ]
  },
  {
   "cell_type": "code",
   "execution_count": 2,
   "id": "e1bc2c0a",
   "metadata": {},
   "outputs": [
    {
     "name": "stdout",
     "output_type": "stream",
     "text": [
      "-3640.7000000000003\n"
     ]
    }
   ],
   "source": [
    "#I can assign all these variable at once\n",
    "deltaH, deltaS, temp = -541.5, 10.4, 298\n",
    "deltaG = deltaH - temp * deltaS\n",
    "print(deltaG)"
   ]
  },
  {
   "cell_type": "code",
   "execution_count": 3,
   "id": "6f07a9d1",
   "metadata": {},
   "outputs": [
    {
     "data": {
      "text/plain": [
       "float"
      ]
     },
     "execution_count": 3,
     "metadata": {},
     "output_type": "execute_result"
    }
   ],
   "source": [
    "type(deltaG)"
   ]
  },
  {
   "cell_type": "code",
   "execution_count": 6,
   "id": "6bdb8675",
   "metadata": {},
   "outputs": [
    {
     "data": {
      "text/plain": [
       "str"
      ]
     },
     "execution_count": 6,
     "metadata": {},
     "output_type": "execute_result"
    }
   ],
   "source": [
    "deltaG_string = str(deltaG)\n",
    "type(deltaG_string)"
   ]
  },
  {
   "cell_type": "code",
   "execution_count": 7,
   "id": "b31fbc83",
   "metadata": {},
   "outputs": [],
   "source": [
    "deltaH = -1.5   #kJ/mole\n",
    "deltaS =  0.4     #kJ/(mole K)\n",
    "temp = 298      #Kelvin\n",
    "deltaG = deltaH - temp * deltaS"
   ]
  },
  {
   "cell_type": "code",
   "execution_count": 8,
   "id": "5deff165",
   "metadata": {},
   "outputs": [
    {
     "name": "stdout",
     "output_type": "stream",
     "text": [
      "-120.7\n"
     ]
    }
   ],
   "source": [
    "print(deltaG)"
   ]
  },
  {
   "cell_type": "code",
   "execution_count": null,
   "id": "a4618785",
   "metadata": {},
   "outputs": [],
   "source": []
  }
 ],
 "metadata": {
  "kernelspec": {
   "display_name": "Python 3",
   "language": "python",
   "name": "python3"
  },
  "language_info": {
   "codemirror_mode": {
    "name": "ipython",
    "version": 3
   },
   "file_extension": ".py",
   "mimetype": "text/x-python",
   "name": "python",
   "nbconvert_exporter": "python",
   "pygments_lexer": "ipython3",
   "version": "3.8.8"
  }
 },
 "nbformat": 4,
 "nbformat_minor": 5
}
